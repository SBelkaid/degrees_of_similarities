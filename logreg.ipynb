{
 "cells": [
  {
   "cell_type": "code",
   "execution_count": 2,
   "metadata": {
    "collapsed": false
   },
   "outputs": [
    {
     "name": "stderr",
     "output_type": "stream",
     "text": [
      "/home/laura/anaconda2/lib/python2.7/site-packages/matplotlib/font_manager.py:273: UserWarning: Matplotlib is building the font cache using fc-list. This may take a moment.\n",
      "  warnings.warn('Matplotlib is building the font cache using fc-list. This may take a moment.')\n"
     ]
    }
   ],
   "source": [
    "import numpy as np\n",
    "import matplotlib.pyplot as plt\n",
    "from sklearn.linear_model import LogisticRegression\n",
    "from sklearn import datasets"
   ]
  },
  {
   "cell_type": "code",
   "execution_count": 24,
   "metadata": {
    "collapsed": false
   },
   "outputs": [],
   "source": [
    "#fit(X, y[, sample_weight])\tFit the model according to the given training data.\n",
    "#predict(X)\tPredict class labels for samples in X.\n",
    "from sklearn import datasets\n",
    "from sklearn.preprocessing import StandardScaler\n",
    "from os import listdir\n",
    "\n",
    "digits = datasets.load_digits()\n",
    "X, y = digits.data, digits.target\n",
    "\n",
    "#format: numpy matrix with a row per wordpair and a column per feature; numpy array with the label of each wordpair"
   ]
  },
  {
   "cell_type": "code",
   "execution_count": null,
   "metadata": {
    "collapsed": true
   },
   "outputs": [],
   "source": []
  },
  {
   "cell_type": "code",
   "execution_count": 10,
   "metadata": {
    "collapsed": false
   },
   "outputs": [
    {
     "data": {
      "text/plain": [
       "LogisticRegression(C=3.0, class_weight=None, dual=False, fit_intercept=True,\n",
       "          intercept_scaling=1, max_iter=100, multi_class='ovr', n_jobs=1,\n",
       "          penalty='l1', random_state=None, solver='liblinear', tol=0.0001,\n",
       "          verbose=0, warm_start=False)"
      ]
     },
     "execution_count": 10,
     "metadata": {},
     "output_type": "execute_result"
    }
   ],
   "source": [
    "l1_LR = LogisticRegression(C=3.0, penalty='l1')\n",
    "l1_LR.fit(X, y)"
   ]
  },
  {
   "cell_type": "code",
   "execution_count": 22,
   "metadata": {
    "collapsed": false
   },
   "outputs": [
    {
     "name": "stdout",
     "output_type": "stream",
     "text": [
      "[[  9.99982838e-01   4.56101910e-23   3.53650098e-09 ...,   2.96164898e-08\n",
      "    1.55808940e-05   1.11656723e-06]\n",
      " [  8.62764129e-23   9.99663864e-01   2.58315846e-11 ...,   9.06156087e-17\n",
      "    3.30765611e-04   4.43213326e-10]\n",
      " [  6.34805092e-16   1.83500330e-03   8.98435879e-01 ...,   8.15126741e-21\n",
      "    9.97290895e-02   1.23921091e-13]\n",
      " ..., \n",
      " [  8.34679281e-16   2.40826419e-06   8.88010642e-11 ...,   1.84335055e-20\n",
      "    9.94152854e-01   1.24001246e-10]\n",
      " [  5.02828614e-06   1.82142869e-08   9.78915628e-13 ...,   6.35068146e-16\n",
      "    2.93728120e-02   9.70620384e-01]\n",
      " [  3.55694839e-14   2.91485781e-10   7.36948594e-11 ...,   1.22206376e-22\n",
      "    9.99988098e-01   1.17255745e-05]]\n"
     ]
    }
   ],
   "source": [
    "x = l1_LR.predict_proba(X)\n",
    "#output: numpy matrix with probabilities of labels for each wordpair in test set\n",
    "#prototypicality score: probability of the semantic relation"
   ]
  },
  {
   "cell_type": "code",
   "execution_count": null,
   "metadata": {
    "collapsed": true
   },
   "outputs": [],
   "source": []
  }
 ],
 "metadata": {
  "anaconda-cloud": {},
  "kernelspec": {
   "display_name": "Python [conda root]",
   "language": "python",
   "name": "conda-root-py"
  },
  "language_info": {
   "codemirror_mode": {
    "name": "ipython",
    "version": 2
   },
   "file_extension": ".py",
   "mimetype": "text/x-python",
   "name": "python",
   "nbconvert_exporter": "python",
   "pygments_lexer": "ipython2",
   "version": "2.7.12"
  }
 },
 "nbformat": 4,
 "nbformat_minor": 1
}
